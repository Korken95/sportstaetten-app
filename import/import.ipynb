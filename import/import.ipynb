{
 "cells": [
  {
   "cell_type": "code",
   "execution_count": null,
   "id": "ff25762f",
   "metadata": {},
   "outputs": [],
   "source": [
    "import mysql.connector\n",
    "\n",
    "def run_query(query):\n",
    "    try:\n",
    "        connection = mysql.connector.connect(\n",
    "            host='localhost',\n",
    "            user='root',\n",
    "            password='Techlabs#2025',\n",
    "            database='techlabs_projekt'\n",
    "        )\n",
    "\n",
    "        cursor = connection.cursor(dictionary=True)\n",
    "        cursor.execute(query)\n",
    "        results = cursor.fetchall()\n",
    "\n",
    "        return results\n",
    "\n",
    "    except mysql.connector.Error as err:\n",
    "        print(f\"Fehler: {err}\")\n",
    "        return None\n",
    "\n",
    "    finally:\n",
    "        if connection.is_connected():\n",
    "            cursor.close()\n",
    "            connection.close()\n",
    "\n",
    "            \n"
   ]
  },
  {
   "cell_type": "code",
   "execution_count": null,
   "id": "cd29208c",
   "metadata": {},
   "outputs": [],
   "source": [
    "if __name__ == \"__main__\":\n",
    "    query = \"SELECT * FROM adressen LIMIT 5;\"\n",
    "    results = run_query(query)\n",
    "\n",
    "    if results:\n",
    "        for row in results:\n",
    "            print(row)\n"
   ]
  }
 ],
 "metadata": {
  "language_info": {
   "name": "python"
  }
 },
 "nbformat": 4,
 "nbformat_minor": 5
}
